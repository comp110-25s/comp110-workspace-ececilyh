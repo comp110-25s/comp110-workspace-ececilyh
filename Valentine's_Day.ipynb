{
 "cells": [
  {
   "cell_type": "code",
   "execution_count": null,
   "id": "5968d937-713e-444e-b6e1-6d395adcd44a",
   "metadata": {},
   "outputs": [
    {
     "name": "stdout",
     "output_type": "stream",
     "text": [
      "Emma loves Abby!\n",
      "Emma loves Abby not...\n",
      "Emma loves Abby!\n",
      "It'sTrue that Emma loves me!\n"
     ]
    }
   ],
   "source": [
    "\"\"\"A Valentine's Day Question\"\"\"\n",
    "\n",
    "__author__ = \"Emma Hedinger\"\n",
    "\n",
    "\n",
    "def loves_me(petals: int) -> bool:\n",
    "    print(\"Emma loves Abby!\")\n",
    "    if petals <= 1:\n",
    "        return True\n",
    "    return loves_me_not(petals=petals - 1)\n",
    "\n",
    "\n",
    "def loves_me_not(petals: int) -> bool:\n",
    "    print(\"Emma loves Abby not...\")\n",
    "    if petals <= 1:\n",
    "        return False\n",
    "    return loves_me(petals=petals - 1)\n",
    "\n",
    "\n",
    "print(f\"It's{loves_me(3)} that Emma loves me!\")"
   ]
  },
  {
   "cell_type": "code",
   "execution_count": null,
   "id": "fe98c773-6dbf-4330-8136-e4e58fe4c188",
   "metadata": {},
   "outputs": [
    {
     "name": "stdout",
     "output_type": "stream",
     "text": [
      "Emma loves Abby!\n",
      "Emma loves Abby not...\n",
      "Emma loves Abby!\n",
      "It's True that Emma loves me!\n"
     ]
    }
   ],
   "source": [
    "\"\"\"A Valentine's Day Question\"\"\"\n",
    "\n",
    "__author__ = \"Emma Hedinger\"\n",
    "\n",
    "\n",
    "def loves_me(petals: int) -> bool:\n",
    "    print(\"Emma loves Abby!\")\n",
    "    if petals <= 1:\n",
    "        return True\n",
    "    return loves_me_not(petals=petals - 1)\n",
    "\n",
    "\n",
    "def loves_me_not(petals: int) -> bool:\n",
    "    print(\"Emma loves Abby not...\")\n",
    "    if petals <= 1:\n",
    "        return False\n",
    "    return loves_me(petals=petals - 1)\n",
    "\n",
    "\n",
    "print(f\"It's {loves_me(3)} that Emma loves me!\")"
   ]
  },
  {
   "cell_type": "code",
   "execution_count": null,
   "id": "6e4a75a3-2a83-49e1-82c7-e4d5afc494c8",
   "metadata": {},
   "outputs": [
    {
     "name": "stdout",
     "output_type": "stream",
     "text": [
      "Emma loves Abby!\n",
      "Emma loves Abby not...\n",
      "It's False that Emma loves me!\n"
     ]
    }
   ],
   "source": [
    "\"\"\"A Valentine's Day Question\"\"\"\n",
    "\n",
    "__author__ = \"Emma Hedinger\"\n",
    "\n",
    "\n",
    "def loves_me(petals: int) -> bool:\n",
    "    print(\"Emma loves Abby!\")\n",
    "    if petals <= 1:\n",
    "        return True\n",
    "    return loves_me_not(petals=petals - 1)\n",
    "\n",
    "\n",
    "def loves_me_not(petals: int) -> bool:\n",
    "    print(\"Emma loves Abby not...\")\n",
    "    if petals <= 1:\n",
    "        return False\n",
    "    return loves_me(petals=petals - 1)\n",
    "\n",
    "\n",
    "print(f\"It's {loves_me(2)} that Emma loves me!\")"
   ]
  },
  {
   "cell_type": "code",
   "execution_count": null,
   "id": "bf1c417c-8b56-4f25-ac5e-f25359c394ec",
   "metadata": {},
   "outputs": [
    {
     "name": "stdout",
     "output_type": "stream",
     "text": [
      "It's False that Emma loves me!\n"
     ]
    }
   ],
   "source": [
    "\"\"\"A Valentine's Day Question\"\"\"\n",
    "\n",
    "__author__ = \"Emma Hedinger\"\n",
    "\n",
    "\n",
    "def loves_me(petals: int) -> bool:\n",
    "    if petals <= 1:\n",
    "        return True\n",
    "    return loves_me_not(petals=petals - 1)\n",
    "\n",
    "\n",
    "def loves_me_not(petals: int) -> bool:\n",
    "    if petals <= 1:\n",
    "        return False\n",
    "    return loves_me(petals=petals - 1)\n",
    "\n",
    "\n",
    "print(f\"It's {loves_me(2)} that Emma loves me!\")"
   ]
  },
  {
   "cell_type": "code",
   "execution_count": null,
   "id": "ac07ca30-c156-480a-b9d5-d010eed744ca",
   "metadata": {},
   "outputs": [
    {
     "ename": "SyntaxError",
     "evalue": "invalid syntax (<ipython-input-5-78d2e19bb585>, line 8)",
     "output_type": "error",
     "traceback": [
      "\u001b[0;36m  Cell \u001b[0;32mIn[5], line 8\u001b[0;36m\u001b[0m\n\u001b[0;31m    return str(Impossible! Try again!)\u001b[0m\n\u001b[0m                         ^\u001b[0m\n\u001b[0;31mSyntaxError\u001b[0m\u001b[0;31m:\u001b[0m invalid syntax\n"
     ]
    }
   ],
   "source": [
    "\"\"\"A Valentine's Day Question\"\"\"\n",
    "\n",
    "__author__ = \"Emma Hedinger\"\n",
    "\n",
    "\n",
    "def loves_me(petals: int) -> bool:\n",
    "    if petals % 2 == 0:\n",
    "         return str(Impossible! Try again!)\n",
    "    else: if petals <= 1:\n",
    "        return True\n",
    "return loves_me_not(petals=petals - 1)\n",
    "\n",
    "\n",
    "def loves_me_not(petals: int) -> bool:\n",
    "    if petals <= 1:\n",
    "        return False\n",
    "    return loves_me(petals=petals - 1)\n",
    "\n",
    "\n",
    "print(f\"It's {loves_me(3)} that Emma loves me!\")"
   ]
  },
  {
   "cell_type": "code",
   "execution_count": null,
   "id": "cb2363be-7f35-4466-8af0-da7a4e79c15d",
   "metadata": {},
   "outputs": [
    {
     "name": "stdout",
     "output_type": "stream",
     "text": [
      "It's True that Emma loves me!\n"
     ]
    }
   ],
   "source": [
    "\"\"\"A Valentine's Day Question\"\"\"\n",
    "\n",
    "__author__ = \"Emma Hedinger\"\n",
    "\n",
    "\n",
    "def loves_me(petals: int) -> bool:\n",
    "    if petals % 2 == 0:\n",
    "        return False\n",
    "    else:\n",
    "        if petals <= 1:\n",
    "            return True\n",
    "        return loves_me_not(petals=petals - 1)\n",
    "\n",
    "\n",
    "def loves_me_not(petals: int) -> bool:\n",
    "    if petals <= 1:\n",
    "        return False\n",
    "    return loves_me(petals=petals - 1)\n",
    "\n",
    "\n",
    "print(f\"It's {loves_me(3)} that Emma loves me!\")"
   ]
  },
  {
   "cell_type": "code",
   "execution_count": null,
   "id": "36ee80ac-13b7-4e9e-817a-5fe64ef41439",
   "metadata": {},
   "outputs": [
    {
     "name": "stdout",
     "output_type": "stream",
     "text": [
      "It's False that Emma loves me!\n"
     ]
    }
   ],
   "source": [
    "\"\"\"A Valentine's Day Question\"\"\"\n",
    "\n",
    "__author__ = \"Emma Hedinger\"\n",
    "\n",
    "\n",
    "def loves_me(petals: int) -> bool:\n",
    "    if petals % 2 == 0:\n",
    "        return False\n",
    "    else:\n",
    "        if petals <= 1:\n",
    "            return True\n",
    "        return loves_me_not(petals=petals - 1)\n",
    "\n",
    "\n",
    "def loves_me_not(petals: int) -> bool:\n",
    "    if petals <= 1:\n",
    "        return False\n",
    "    return loves_me(petals=petals - 1)\n",
    "\n",
    "\n",
    "print(f\"It's {loves_me(2)} that Emma loves me!\")"
   ]
  },
  {
   "cell_type": "code",
   "execution_count": null,
   "id": "e2cc5256-7a20-489a-a5b7-cab4f5f2c164",
   "metadata": {},
   "outputs": [
    {
     "ename": "SyntaxError",
     "evalue": "unterminated string literal (detected at line 8) (<ipython-input-8-1bc39fac4353>, line 8)",
     "output_type": "error",
     "traceback": [
      "\u001b[0;36m  Cell \u001b[0;32mIn[8], line 8\u001b[0;36m\u001b[0m\n\u001b[0;31m    print (f\"Try again with a new number!\")\")\u001b[0m\n\u001b[0m                                           ^\u001b[0m\n\u001b[0;31mSyntaxError\u001b[0m\u001b[0;31m:\u001b[0m unterminated string literal (detected at line 8)\n"
     ]
    }
   ],
   "source": [
    "\"\"\"A Valentine's Day Question\"\"\"\n",
    "\n",
    "__author__ = \"Emma Hedinger\"\n",
    "\n",
    "\n",
    "def loves_me(petals: int) -> bool:\n",
    "    if petals % 2 == 0:\n",
    "        print (f\"Try again with a new number!\")\")\n",
    "    else:\n",
    "        if petals <= 1:\n",
    "            return True\n",
    "        return loves_me_not(petals=petals - 1)\n",
    "\n",
    "\n",
    "def loves_me_not(petals: int) -> bool:\n",
    "    if petals <= 1:\n",
    "        return False\n",
    "    return loves_me(petals=petals - 1)\n",
    "\n",
    "\n",
    "print(f\"It's {loves_me(2)} that Emma loves me!\")"
   ]
  },
  {
   "cell_type": "code",
   "execution_count": null,
   "id": "8d6d4565-8cd5-46cd-8a70-4d60655b56d0",
   "metadata": {},
   "outputs": [
    {
     "name": "stdout",
     "output_type": "stream",
     "text": [
      "Try again with an odd number!\n",
      "It's None that Emma loves me!\n"
     ]
    }
   ],
   "source": [
    "\"\"\"A Valentine's Day Question\"\"\"\n",
    "\n",
    "__author__ = \"Emma Hedinger\"\n",
    "\n",
    "\n",
    "def loves_me(petals: int) -> bool:\n",
    "    if petals % 2 == 0:\n",
    "        print (f\"Try again with an odd number!\")\n",
    "    else:\n",
    "        if petals <= 1:\n",
    "            return True\n",
    "        return loves_me_not(petals=petals - 1)\n",
    "\n",
    "\n",
    "def loves_me_not(petals: int) -> bool:\n",
    "    if petals <= 1:\n",
    "        return False\n",
    "    return loves_me(petals=petals - 1)\n",
    "\n",
    "\n",
    "print(f\"It's {loves_me(2)} that Emma loves me!\")"
   ]
  },
  {
   "cell_type": "code",
   "execution_count": null,
   "id": "85ea9d51-fd1e-41f9-b6ef-0a48aebe22b0",
   "metadata": {},
   "outputs": [
    {
     "name": "stdout",
     "output_type": "stream",
     "text": [
      "It's True that Emma loves me!\n"
     ]
    }
   ],
   "source": [
    "\"\"\"A Valentine's Day Question\"\"\"\n",
    "\n",
    "__author__ = \"Emma Hedinger\"\n",
    "\n",
    "\n",
    "def loves_me(petals: int) -> bool:\n",
    "    if petals % 2 == 0:\n",
    "        print (f\"Try again with an odd number!\")\n",
    "    else:\n",
    "        if petals <= 1:\n",
    "            return True\n",
    "        return loves_me_not(petals=petals - 1)\n",
    "\n",
    "\n",
    "def loves_me_not(petals: int) -> bool:\n",
    "    if petals <= 1:\n",
    "        return False\n",
    "    return loves_me(petals=petals - 1)\n",
    "\n",
    "\n",
    "print(f\"It's {loves_me(3)} that Emma loves me!\")"
   ]
  },
  {
   "cell_type": "code",
   "execution_count": null,
   "id": "64754fee-58bf-4fa1-90ab-bda4a8c1ce6e",
   "metadata": {},
   "outputs": [
    {
     "name": "stdout",
     "output_type": "stream",
     "text": [
      "It's True that Emma loves Abby!\n"
     ]
    }
   ],
   "source": [
    "\"\"\"A Valentine's Day Flower Game\"\"\"\n",
    "\n",
    "__author__ = \"Emma Hedinger\"\n",
    "\n",
    "\n",
    "def loves_me(petals: int) -> bool:\n",
    "    if petals % 2 == 0:\n",
    "        print(f\"Try again with an odd number!\")\n",
    "        return False\n",
    "    else:\n",
    "        if petals <= 1:\n",
    "            return True\n",
    "        return loves_me_not(petals=petals - 1)\n",
    "\n",
    "\n",
    "def loves_me_not(petals: int) -> bool:\n",
    "    if petals <= 1:\n",
    "        return False\n",
    "    return loves_me(petals=petals - 1)\n",
    "\n",
    "\n",
    "print(f\"It's {loves_me(3)} that Emma loves Abby!\")"
   ]
  },
  {
   "cell_type": "code",
   "execution_count": null,
   "id": "3e7a0be6-5b72-4a0e-9b8f-7431a6a41737",
   "metadata": {},
   "outputs": [
    {
     "name": "stdout",
     "output_type": "stream",
     "text": [
      "Try again with an odd number!\n",
      "It's False that Emma loves Abby!\n"
     ]
    }
   ],
   "source": [
    "\"\"\"A Valentine's Day Flower Game\"\"\"\n",
    "\n",
    "__author__ = \"Emma Hedinger\"\n",
    "\n",
    "\n",
    "def loves_me(petals: int) -> bool:\n",
    "    if petals % 2 == 0:\n",
    "        print(f\"Try again with an odd number!\")\n",
    "        return False\n",
    "    else:\n",
    "        if petals <= 1:\n",
    "            return True\n",
    "        return loves_me_not(petals=petals - 1)\n",
    "\n",
    "\n",
    "def loves_me_not(petals: int) -> bool:\n",
    "    if petals <= 1:\n",
    "        return False\n",
    "    return loves_me(petals=petals - 1)\n",
    "\n",
    "\n",
    "print(f\"It's {loves_me(2)} that Emma loves Abby!\")"
   ]
  },
  {
   "cell_type": "code",
   "execution_count": null,
   "id": "9fda056f-4603-446c-9757-85728a6e0edb",
   "metadata": {},
   "outputs": [
    {
     "name": "stdout",
     "output_type": "stream",
     "text": [
      "It's True that Emma loves Abby!\n"
     ]
    }
   ],
   "source": [
    "\"\"\"A Valentine's Day Flower Game\"\"\"\n",
    "\n",
    "__author__ = \"Emma Hedinger\"\n",
    "\n",
    "\n",
    "def loves_me(petals: int) -> bool:\n",
    "    if petals % 2 == 0:\n",
    "        print(f\"Try again with a different number!\")\n",
    "        return False\n",
    "    else:\n",
    "        if petals <= 1:\n",
    "            return True\n",
    "        return loves_me_not(petals=petals - 1)\n",
    "\n",
    "\n",
    "def loves_me_not(petals: int) -> bool:\n",
    "    if petals <= 1:\n",
    "        return False\n",
    "    return loves_me(petals=petals - 1)\n",
    "\n",
    "\n",
    "result = loves_me (3)\n",
    "if result != False:\n",
    "    print(f\"It's {loves_me(3)} that Emma loves Abby!\")"
   ]
  },
  {
   "cell_type": "code",
   "execution_count": null,
   "id": "11470ce6-4ce9-474f-9544-6085bb283acb",
   "metadata": {},
   "outputs": [
    {
     "name": "stdout",
     "output_type": "stream",
     "text": [
      "Try again with a different number!\n"
     ]
    }
   ],
   "source": [
    "\"\"\"A Valentine's Day Flower Game\"\"\"\n",
    "\n",
    "__author__ = \"Emma Hedinger\"\n",
    "\n",
    "\n",
    "def loves_me(petals: int) -> bool:\n",
    "    if petals % 2 == 0:\n",
    "        print(f\"Try again with a different number!\")\n",
    "        return False\n",
    "    else:\n",
    "        if petals <= 1:\n",
    "            return True\n",
    "        return loves_me_not(petals=petals - 1)\n",
    "\n",
    "\n",
    "def loves_me_not(petals: int) -> bool:\n",
    "    if petals <= 1:\n",
    "        return False\n",
    "    return loves_me(petals=petals - 1)\n",
    "\n",
    "\n",
    "result = loves_me (2)\n",
    "if result != False:\n",
    "    print(f\"It's {loves_me(2)} that Emma loves Abby!\")"
   ]
  },
  {
   "cell_type": "code",
   "execution_count": null,
   "id": "855d326f-1112-4acf-8d76-21d19295f542",
   "metadata": {},
   "outputs": [
    {
     "ename": "TypeError",
     "evalue": "loves_me() missing 1 required positional argument: 'petals'",
     "output_type": "error",
     "traceback": [
      "\u001b[0;31m---------------------------------------------------------------------------\u001b[0m",
      "\u001b[0;31mTypeError\u001b[0m                                 Traceback (most recent call last)",
      "File \u001b[1;32m/workspace/exercises/Valentine's_Day:22\u001b[0m\n\u001b[1;32m     18\u001b[0m         \u001b[39mreturn\u001b[39;00m \u001b[39mFalse\u001b[39;00m\n\u001b[1;32m     19\u001b[0m     \u001b[39mreturn\u001b[39;00m loves_me(petals\u001b[39m=\u001b[39mpetals \u001b[39m-\u001b[39m \u001b[39m1\u001b[39m)\n\u001b[0;32m---> 22\u001b[0m result \u001b[39m=\u001b[39m loves_me()\n\u001b[1;32m     23\u001b[0m \u001b[39mif\u001b[39;00m result \u001b[39m!=\u001b[39m \u001b[39mFalse\u001b[39;00m:\n\u001b[1;32m     24\u001b[0m     \u001b[39mprint\u001b[39m(\u001b[39mf\u001b[39m\u001b[39m\"\u001b[39m\u001b[39mIt\u001b[39m\u001b[39m'\u001b[39m\u001b[39ms \u001b[39m\u001b[39m{\u001b[39;00mloves_me()\u001b[39m}\u001b[39;00m\u001b[39m that Emma loves Abby!\u001b[39m\u001b[39m\"\u001b[39m)\n",
      "\u001b[0;31mTypeError\u001b[0m: loves_me() missing 1 required positional argument: 'petals'"
     ]
    }
   ],
   "source": [
    "\"\"\"A Valentine's Day Flower Game\"\"\"\n",
    "\n",
    "__author__ = \"Emma Hedinger\"\n",
    "\n",
    "\n",
    "def loves_me(petals: int) -> bool:\n",
    "    if petals % 2 == 0:\n",
    "        print(f\"Try again with a different number!\")\n",
    "        return False\n",
    "    else:\n",
    "        if petals <= 1:\n",
    "            return True\n",
    "        return loves_me_not(petals=petals - 1)\n",
    "\n",
    "\n",
    "def loves_me_not(petals: int) -> bool:\n",
    "    if petals <= 1:\n",
    "        return False\n",
    "    return loves_me(petals=petals - 1)\n",
    "\n",
    "\n",
    "result = loves_me()\n",
    "if result != False:\n",
    "    print(f\"It's {loves_me()} that Emma loves Abby!\")"
   ]
  },
  {
   "cell_type": "code",
   "execution_count": null,
   "id": "26575a50-8679-461e-8247-9fa633ba32b7",
   "metadata": {},
   "outputs": [
    {
     "name": "stdout",
     "output_type": "stream",
     "text": [
      "It's True that Emma loves Abby!\n"
     ]
    }
   ],
   "source": [
    "\"\"\"A Valentine's Day Flower Game\"\"\"\n",
    "\n",
    "__author__ = \"Emma Hedinger\"\n",
    "\n",
    "\n",
    "def loves_me(petals: int) -> bool:\n",
    "    if petals % 2 == 0:\n",
    "        print(f\"Try again with a different number!\")\n",
    "        return False\n",
    "    else:\n",
    "        if petals <= 1:\n",
    "            return True\n",
    "        return loves_me_not(petals=petals - 1)\n",
    "\n",
    "\n",
    "def loves_me_not(petals: int) -> bool:\n",
    "    if petals <= 1:\n",
    "        return False\n",
    "    return loves_me(petals=petals - 1)\n",
    "\n",
    "\n",
    "result = loves_me(1)\n",
    "if result != False:\n",
    "    print(f\"It's {loves_me(1)} that Emma loves Abby!\")"
   ]
  },
  {
   "cell_type": "code",
   "execution_count": null,
   "id": "e6ef4cde-849f-40c2-ad13-22e88ef5c180",
   "metadata": {},
   "outputs": [
    {
     "name": "stdout",
     "output_type": "stream",
     "text": [
      "Try again with a different number!\n"
     ]
    }
   ],
   "source": [
    "\"\"\"A Valentine's Day Flower Game\"\"\"\n",
    "\n",
    "__author__ = \"Emma Hedinger\"\n",
    "\n",
    "\n",
    "def loves_me(petals: int) -> bool:\n",
    "    if petals % 2 == 0:\n",
    "        print(f\"Try again with a different number!\")\n",
    "        return False\n",
    "    else:\n",
    "        if petals <= 1:\n",
    "            return True\n",
    "        return loves_me_not(petals=petals - 1)\n",
    "\n",
    "\n",
    "def loves_me_not(petals: int) -> bool:\n",
    "    if petals <= 1:\n",
    "        return False\n",
    "    return loves_me(petals=petals - 1)\n",
    "\n",
    "\n",
    "result = loves_me(100)\n",
    "if result != False:\n",
    "    print(f\"It's {loves_me(100)} that Emma loves Abby!\")"
   ]
  }
 ],
 "metadata": {
  "language_info": {
   "codemirror_mode": {
    "name": "ipython",
    "version": 3
   },
   "file_extension": ".py",
   "mimetype": "text/x-python",
   "name": "python",
   "nbconvert_exporter": "python",
   "pygments_lexer": "ipython3",
   "version": 3
  }
 },
 "nbformat": 4,
 "nbformat_minor": 2
}
